{
 "cells": [
  {
   "cell_type": "markdown",
   "metadata": {},
   "source": [
    "# Step 1: Import libraries"
   ]
  },
  {
   "cell_type": "code",
   "execution_count": 1,
   "metadata": {},
   "outputs": [
    {
     "name": "stdout",
     "output_type": "stream",
     "text": [
      "WARNING:tensorflow:From c:\\Program Files\\Python310\\lib\\site-packages\\keras\\src\\losses.py:2976: The name tf.losses.sparse_softmax_cross_entropy is deprecated. Please use tf.compat.v1.losses.sparse_softmax_cross_entropy instead.\n",
      "\n"
     ]
    }
   ],
   "source": [
    "import numpy as np\n",
    "import pandas as pd\n",
    "import matplotlib.pyplot as plt\n",
    "from sklearn.preprocessing import MinMaxScaler\n",
    "from tensorflow.keras.models import Sequential\n",
    "from tensorflow.keras.layers import LSTM, Dense\n"
   ]
  },
  {
   "cell_type": "markdown",
   "metadata": {},
   "source": [
    "# Step 2: Load and preprocess the data"
   ]
  },
  {
   "cell_type": "code",
   "execution_count": 2,
   "metadata": {},
   "outputs": [],
   "source": [
    "# Load the data\n",
    "data = pd.read_csv('sales.csv')  # Replace 'your_data.csv' with the actual file name\n",
    "\n",
    "# Extract the relevant column\n",
    "sales_data = data['MRTSSM448USN'].values.reshape(-1, 1)\n",
    "\n",
    "# Normalize the data\n",
    "scaler = MinMaxScaler(feature_range=(0, 1))\n",
    "sales_data_normalized = scaler.fit_transform(sales_data)"
   ]
  },
  {
   "cell_type": "markdown",
   "metadata": {},
   "source": [
    "# Step 3: Prepare the data for training"
   ]
  },
  {
   "cell_type": "code",
   "execution_count": 3,
   "metadata": {},
   "outputs": [],
   "source": [
    "def create_sequences(data, seq_length):\n",
    "    sequences = []\n",
    "    target = []\n",
    "    for i in range(len(data) - seq_length):\n",
    "        seq = data[i:i+seq_length]\n",
    "        label = data[i+seq_length:i+seq_length+1]\n",
    "        sequences.append(seq)\n",
    "        target.append(label)\n",
    "    return np.array(sequences), np.array(target)\n",
    "\n",
    "# Choose the sequence length (number of time steps to consider for each prediction)\n",
    "sequence_length = 12\n",
    "\n",
    "# Create sequences and targets\n",
    "X, y = create_sequences(sales_data_normalized, sequence_length)\n",
    "\n",
    "# Split the data into training and testing sets\n",
    "split = int(0.8 * len(X))\n",
    "X_train, X_test, y_train, y_test = X[:split], X[split:], y[:split], y[split:]\n"
   ]
  },
  {
   "cell_type": "markdown",
   "metadata": {},
   "source": [
    "# Step 4: Build the LSTM model"
   ]
  },
  {
   "cell_type": "code",
   "execution_count": 4,
   "metadata": {},
   "outputs": [
    {
     "name": "stdout",
     "output_type": "stream",
     "text": [
      "WARNING:tensorflow:From c:\\Program Files\\Python310\\lib\\site-packages\\keras\\src\\backend.py:873: The name tf.get_default_graph is deprecated. Please use tf.compat.v1.get_default_graph instead.\n",
      "\n",
      "WARNING:tensorflow:From c:\\Program Files\\Python310\\lib\\site-packages\\keras\\src\\optimizers\\__init__.py:309: The name tf.train.Optimizer is deprecated. Please use tf.compat.v1.train.Optimizer instead.\n",
      "\n"
     ]
    }
   ],
   "source": [
    "model = Sequential()\n",
    "model.add(LSTM(50, activation='relu', input_shape=(sequence_length, 1)))\n",
    "model.add(Dense(1))\n",
    "model.compile(optimizer='adam', loss='mse')"
   ]
  },
  {
   "cell_type": "markdown",
   "metadata": {},
   "source": [
    "# Step 5: Train the model"
   ]
  },
  {
   "cell_type": "code",
   "execution_count": 5,
   "metadata": {},
   "outputs": [
    {
     "name": "stdout",
     "output_type": "stream",
     "text": [
      "Epoch 1/50\n",
      "WARNING:tensorflow:From c:\\Program Files\\Python310\\lib\\site-packages\\keras\\src\\utils\\tf_utils.py:492: The name tf.ragged.RaggedTensorValue is deprecated. Please use tf.compat.v1.ragged.RaggedTensorValue instead.\n",
      "\n",
      "10/10 [==============================] - 3s 62ms/step - loss: 0.1295 - val_loss: 0.2372\n",
      "Epoch 2/50\n",
      "10/10 [==============================] - 0s 14ms/step - loss: 0.0932 - val_loss: 0.1725\n",
      "Epoch 3/50\n",
      "10/10 [==============================] - 0s 16ms/step - loss: 0.0601 - val_loss: 0.1041\n",
      "Epoch 4/50\n",
      "10/10 [==============================] - 0s 15ms/step - loss: 0.0275 - val_loss: 0.0373\n",
      "Epoch 5/50\n",
      "10/10 [==============================] - 0s 15ms/step - loss: 0.0121 - val_loss: 0.0217\n",
      "Epoch 6/50\n",
      "10/10 [==============================] - 0s 15ms/step - loss: 0.0125 - val_loss: 0.0280\n",
      "Epoch 7/50\n",
      "10/10 [==============================] - 0s 14ms/step - loss: 0.0121 - val_loss: 0.0266\n",
      "Epoch 8/50\n",
      "10/10 [==============================] - 0s 15ms/step - loss: 0.0113 - val_loss: 0.0230\n",
      "Epoch 9/50\n",
      "10/10 [==============================] - 0s 14ms/step - loss: 0.0113 - val_loss: 0.0257\n",
      "Epoch 10/50\n",
      "10/10 [==============================] - 0s 14ms/step - loss: 0.0111 - val_loss: 0.0234\n",
      "Epoch 11/50\n",
      "10/10 [==============================] - 0s 15ms/step - loss: 0.0111 - val_loss: 0.0234\n",
      "Epoch 12/50\n",
      "10/10 [==============================] - 0s 15ms/step - loss: 0.0107 - val_loss: 0.0242\n",
      "Epoch 13/50\n",
      "10/10 [==============================] - 0s 15ms/step - loss: 0.0106 - val_loss: 0.0224\n",
      "Epoch 14/50\n",
      "10/10 [==============================] - 0s 15ms/step - loss: 0.0105 - val_loss: 0.0231\n",
      "Epoch 15/50\n",
      "10/10 [==============================] - 0s 14ms/step - loss: 0.0104 - val_loss: 0.0229\n",
      "Epoch 16/50\n",
      "10/10 [==============================] - 0s 14ms/step - loss: 0.0103 - val_loss: 0.0224\n",
      "Epoch 17/50\n",
      "10/10 [==============================] - 0s 15ms/step - loss: 0.0104 - val_loss: 0.0225\n",
      "Epoch 18/50\n",
      "10/10 [==============================] - 0s 14ms/step - loss: 0.0100 - val_loss: 0.0227\n",
      "Epoch 19/50\n",
      "10/10 [==============================] - 0s 14ms/step - loss: 0.0101 - val_loss: 0.0229\n",
      "Epoch 20/50\n",
      "10/10 [==============================] - 0s 14ms/step - loss: 0.0099 - val_loss: 0.0229\n",
      "Epoch 21/50\n",
      "10/10 [==============================] - 0s 23ms/step - loss: 0.0099 - val_loss: 0.0228\n",
      "Epoch 22/50\n",
      "10/10 [==============================] - 0s 16ms/step - loss: 0.0098 - val_loss: 0.0228\n",
      "Epoch 23/50\n",
      "10/10 [==============================] - 0s 19ms/step - loss: 0.0099 - val_loss: 0.0232\n",
      "Epoch 24/50\n",
      "10/10 [==============================] - 0s 22ms/step - loss: 0.0097 - val_loss: 0.0228\n",
      "Epoch 25/50\n",
      "10/10 [==============================] - 0s 23ms/step - loss: 0.0097 - val_loss: 0.0229\n",
      "Epoch 26/50\n",
      "10/10 [==============================] - 0s 22ms/step - loss: 0.0097 - val_loss: 0.0239\n",
      "Epoch 27/50\n",
      "10/10 [==============================] - 0s 18ms/step - loss: 0.0101 - val_loss: 0.0230\n",
      "Epoch 28/50\n",
      "10/10 [==============================] - 0s 18ms/step - loss: 0.0098 - val_loss: 0.0230\n",
      "Epoch 29/50\n",
      "10/10 [==============================] - 0s 17ms/step - loss: 0.0095 - val_loss: 0.0228\n",
      "Epoch 30/50\n",
      "10/10 [==============================] - 0s 29ms/step - loss: 0.0095 - val_loss: 0.0227\n",
      "Epoch 31/50\n",
      "10/10 [==============================] - 0s 25ms/step - loss: 0.0094 - val_loss: 0.0231\n",
      "Epoch 32/50\n",
      "10/10 [==============================] - 0s 20ms/step - loss: 0.0093 - val_loss: 0.0234\n",
      "Epoch 33/50\n",
      "10/10 [==============================] - 0s 20ms/step - loss: 0.0108 - val_loss: 0.0242\n",
      "Epoch 34/50\n",
      "10/10 [==============================] - 0s 22ms/step - loss: 0.0102 - val_loss: 0.0233\n",
      "Epoch 35/50\n",
      "10/10 [==============================] - 0s 23ms/step - loss: 0.0094 - val_loss: 0.0224\n",
      "Epoch 36/50\n",
      "10/10 [==============================] - 0s 22ms/step - loss: 0.0091 - val_loss: 0.0225\n",
      "Epoch 37/50\n",
      "10/10 [==============================] - 0s 21ms/step - loss: 0.0089 - val_loss: 0.0229\n",
      "Epoch 38/50\n",
      "10/10 [==============================] - 0s 14ms/step - loss: 0.0090 - val_loss: 0.0224\n",
      "Epoch 39/50\n",
      "10/10 [==============================] - 0s 14ms/step - loss: 0.0089 - val_loss: 0.0234\n",
      "Epoch 40/50\n",
      "10/10 [==============================] - 0s 21ms/step - loss: 0.0086 - val_loss: 0.0226\n",
      "Epoch 41/50\n",
      "10/10 [==============================] - 0s 20ms/step - loss: 0.0084 - val_loss: 0.0223\n",
      "Epoch 42/50\n",
      "10/10 [==============================] - 0s 21ms/step - loss: 0.0085 - val_loss: 0.0231\n",
      "Epoch 43/50\n",
      "10/10 [==============================] - 0s 23ms/step - loss: 0.0082 - val_loss: 0.0228\n",
      "Epoch 44/50\n",
      "10/10 [==============================] - 0s 15ms/step - loss: 0.0080 - val_loss: 0.0237\n",
      "Epoch 45/50\n",
      "10/10 [==============================] - 0s 14ms/step - loss: 0.0079 - val_loss: 0.0215\n",
      "Epoch 46/50\n",
      "10/10 [==============================] - 0s 32ms/step - loss: 0.0079 - val_loss: 0.0249\n",
      "Epoch 47/50\n",
      "10/10 [==============================] - 0s 17ms/step - loss: 0.0072 - val_loss: 0.0221\n",
      "Epoch 48/50\n",
      "10/10 [==============================] - 0s 15ms/step - loss: 0.0069 - val_loss: 0.0247\n",
      "Epoch 49/50\n",
      "10/10 [==============================] - 0s 15ms/step - loss: 0.0068 - val_loss: 0.0244\n",
      "Epoch 50/50\n",
      "10/10 [==============================] - 0s 14ms/step - loss: 0.0065 - val_loss: 0.0197\n"
     ]
    },
    {
     "data": {
      "text/plain": [
       "<keras.src.callbacks.History at 0x1a90f626b90>"
      ]
     },
     "execution_count": 5,
     "metadata": {},
     "output_type": "execute_result"
    }
   ],
   "source": [
    "model.fit(X_train, y_train, epochs=50, batch_size=32, validation_data=(X_test, y_test))"
   ]
  },
  {
   "cell_type": "markdown",
   "metadata": {},
   "source": [
    "# Step 6: Make predictions and evaluate the model"
   ]
  },
  {
   "cell_type": "code",
   "execution_count": 6,
   "metadata": {},
   "outputs": [
    {
     "name": "stdout",
     "output_type": "stream",
     "text": [
      "3/3 [==============================] - 0s 6ms/step\n"
     ]
    },
    {
     "data": {
      "image/png": "[encoded data removed]",
      "text/plain": [
       "<Figure size 640x480 with 1 Axes>"
      ]
     },
     "metadata": {},
     "output_type": "display_data"
    }
   ],
   "source": [
    "# Make predictions\n",
    "predictions = model.predict(X_test)\n",
    "\n",
    "# Inverse transform the predictions and actual values to the original scale\n",
    "predictions_actual = scaler.inverse_transform(predictions.reshape(-1, 1))\n",
    "y_test_actual = scaler.inverse_transform(y_test.reshape(-1, 1))\n",
    "\n",
    "# Plot the results\n",
    "plt.plot(predictions_actual, label='Predictions')\n",
    "plt.plot(y_test_actual, label='Actual')\n",
    "plt.legend()\n",
    "plt.show()\n"
   ]
  },
  {
   "cell_type": "markdown",
   "metadata": {},
   "source": [
    "# Fine tuning and hyperparameter tuning for the model\n",
    "## Step 1 : Define a hyperparameter Search space"
   ]
  },
  {
   "cell_type": "code",
   "execution_count": 7,
   "metadata": {},
   "outputs": [],
   "source": [
    "# Example hyperparameter search space\n",
    "param_grid = {\n",
    "    'lstm_units': [50, 100],\n",
    "    'learning_rate': [0.001, 0.01],\n",
    "    'batch_size': [32, 64],\n",
    "    'epochs': [50, 100]\n",
    "}"
   ]
  },
  {
   "cell_type": "markdown",
   "metadata": {},
   "source": [
    "## Step 2: Set Up Cross-Validation"
   ]
  },
  {
   "cell_type": "code",
   "execution_count": 13,
   "metadata": {},
   "outputs": [
    {
     "ename": "NameError",
     "evalue": "name 'keras_regressor' is not defined",
     "output_type": "error",
     "traceback": [
      "\u001b[1;31m---------------------------------------------------------------------------\u001b[0m",
      "\u001b[1;31mNameError\u001b[0m                                 Traceback (most recent call last)",
      "Cell \u001b[1;32mIn[13], line 17\u001b[0m\n\u001b[0;32m      9\u001b[0m param_grid \u001b[38;5;241m=\u001b[39m {\n\u001b[0;32m     10\u001b[0m     \u001b[38;5;124m'\u001b[39m\u001b[38;5;124mlstm_units\u001b[39m\u001b[38;5;124m'\u001b[39m: [\u001b[38;5;241m50\u001b[39m, \u001b[38;5;241m100\u001b[39m],\n\u001b[0;32m     11\u001b[0m     \u001b[38;5;124m'\u001b[39m\u001b[38;5;124mlearning_rate\u001b[39m\u001b[38;5;124m'\u001b[39m: [\u001b[38;5;241m0.001\u001b[39m, \u001b[38;5;241m0.01\u001b[39m],\n\u001b[0;32m     12\u001b[0m     \u001b[38;5;124m'\u001b[39m\u001b[38;5;124mbatch_size\u001b[39m\u001b[38;5;124m'\u001b[39m: [\u001b[38;5;241m32\u001b[39m, \u001b[38;5;241m64\u001b[39m],\n\u001b[0;32m     13\u001b[0m     \u001b[38;5;124m'\u001b[39m\u001b[38;5;124mepochs\u001b[39m\u001b[38;5;124m'\u001b[39m: [\u001b[38;5;241m50\u001b[39m, \u001b[38;5;241m100\u001b[39m]\n\u001b[0;32m     14\u001b[0m }\n\u001b[0;32m     16\u001b[0m \u001b[38;5;66;03m# Use GridSearchCV with the custom wrapper function\u001b[39;00m\n\u001b[1;32m---> 17\u001b[0m param_search \u001b[38;5;241m=\u001b[39m GridSearchCV(\u001b[43mkeras_regressor\u001b[49m, param_grid, scoring\u001b[38;5;241m=\u001b[39m\u001b[38;5;124m'\u001b[39m\u001b[38;5;124mneg_mean_squared_error\u001b[39m\u001b[38;5;124m'\u001b[39m, cv\u001b[38;5;241m=\u001b[39m\u001b[38;5;241m3\u001b[39m)\n\u001b[0;32m     18\u001b[0m param_search\u001b[38;5;241m.\u001b[39mfit(X_train, y_train)\n",
      "\u001b[1;31mNameError\u001b[0m: name 'keras_regressor' is not defined"
     ]
    }
   ],
   "source": [
    "from keras.models import Sequential\n",
    "from keras.layers import LSTM, Dense\n",
    "from keras.optimizers import Adam\n",
    "from sklearn.model_selection import GridSearchCV\n",
    "from sklearn.metrics import mean_squared_error\n",
    "import numpy as np\n",
    "\n",
    "# Define the hyperparameter search space\n",
    "param_grid = {\n",
    "    'lstm_units': [50, 100],\n",
    "    'learning_rate': [0.001, 0.01],\n",
    "    'batch_size': [32, 64],\n",
    "    'epochs': [50, 100]\n",
    "}\n",
    "\n",
    "# Use GridSearchCV with the custom wrapper function\n",
    "param_search = GridSearchCV(keras_regressor, param_grid, scoring='neg_mean_squared_error', cv=3)\n",
    "param_search.fit(X_train, y_train)"
   ]
  }
 ],
 "metadata": {
  "kernelspec": {
   "display_name": "Python 3",
   "language": "python",
   "name": "python3"
  },
  "language_info": {
   "codemirror_mode": {
    "name": "ipython",
    "version": 3
   },
   "file_extension": ".py",
   "mimetype": "text/x-python",
   "name": "python",
   "nbconvert_exporter": "python",
   "pygments_lexer": "ipython3",
   "version": "3.10.8"
  }
 },
 "nbformat": 4,
 "nbformat_minor": 2
}
